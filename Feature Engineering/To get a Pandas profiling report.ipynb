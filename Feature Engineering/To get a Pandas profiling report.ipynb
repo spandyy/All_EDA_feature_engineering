{
 "cells": [
  {
   "cell_type": "code",
   "execution_count": 2,
   "metadata": {},
   "outputs": [
    {
     "name": "stdout",
     "output_type": "stream",
     "text": [
      "Collecting pandas-profiling\n",
      "  Downloading pandas_profiling-3.6.2-py2.py3-none-any.whl (328 kB)\n",
      "Collecting typeguard<2.14,>=2.13.2\n",
      "  Downloading typeguard-2.13.3-py3-none-any.whl (17 kB)\n",
      "Collecting phik<0.13,>=0.11.1\n",
      "  Downloading phik-0.12.3-cp38-cp38-win_amd64.whl (663 kB)\n",
      "Collecting statsmodels<0.14,>=0.13.2\n",
      "  Downloading statsmodels-0.13.5-cp38-cp38-win_amd64.whl (9.2 MB)\n",
      "Requirement already satisfied: seaborn<0.13,>=0.10.1 in c:\\users\\spand\\anaconda3\\lib\\site-packages (from pandas-profiling) (0.11.0)\n",
      "Collecting htmlmin==0.1.12\n",
      "  Downloading htmlmin-0.1.12.tar.gz (19 kB)\n",
      "Requirement already satisfied: scipy<1.10,>=1.4.1 in c:\\users\\spand\\anaconda3\\lib\\site-packages (from pandas-profiling) (1.5.2)\n",
      "Requirement already satisfied: PyYAML<6.1,>=5.0.0 in c:\\users\\spand\\anaconda3\\lib\\site-packages (from pandas-profiling) (6.0)\n",
      "Requirement already satisfied: jinja2<3.2,>=2.11.1 in c:\\users\\spand\\anaconda3\\lib\\site-packages (from pandas-profiling) (2.11.2)\n",
      "Requirement already satisfied: numpy<1.24,>=1.16.0 in c:\\users\\spand\\anaconda3\\lib\\site-packages (from pandas-profiling) (1.19.2)\n",
      "Requirement already satisfied: matplotlib<3.7,>=3.2 in c:\\users\\spand\\anaconda3\\lib\\site-packages (from pandas-profiling) (3.3.2)\n",
      "Collecting pydantic<1.11,>=1.8.1\n",
      "  Downloading pydantic-1.10.4-cp38-cp38-win_amd64.whl (2.2 MB)\n",
      "Requirement already satisfied: tqdm<4.65,>=4.48.2 in c:\\users\\spand\\anaconda3\\lib\\site-packages (from pandas-profiling) (4.50.2)\n",
      "Collecting multimethod<1.10,>=1.4\n",
      "  Downloading multimethod-1.9.1-py3-none-any.whl (10 kB)\n",
      "Collecting visions[type_image_path]==0.7.5\n",
      "  Downloading visions-0.7.5-py3-none-any.whl (102 kB)\n",
      "Requirement already satisfied: pandas!=1.4.0,<1.6,>1.1 in c:\\users\\spand\\anaconda3\\lib\\site-packages (from pandas-profiling) (1.4.3)\n",
      "Requirement already satisfied: requests<2.29,>=2.24.0 in c:\\users\\spand\\anaconda3\\lib\\site-packages (from pandas-profiling) (2.28.1)\n",
      "Requirement already satisfied: joblib>=0.14.1 in c:\\users\\spand\\anaconda3\\lib\\site-packages (from phik<0.13,>=0.11.1->pandas-profiling) (0.17.0)\n",
      "Collecting packaging>=21.3\n",
      "  Downloading packaging-23.0-py3-none-any.whl (42 kB)\n",
      "Collecting patsy>=0.5.2\n",
      "  Downloading patsy-0.5.3-py2.py3-none-any.whl (233 kB)\n",
      "Requirement already satisfied: MarkupSafe>=0.23 in c:\\users\\spand\\anaconda3\\lib\\site-packages (from jinja2<3.2,>=2.11.1->pandas-profiling) (1.1.1)\n",
      "Requirement already satisfied: python-dateutil>=2.1 in c:\\users\\spand\\anaconda3\\lib\\site-packages (from matplotlib<3.7,>=3.2->pandas-profiling) (2.8.1)\n",
      "Requirement already satisfied: kiwisolver>=1.0.1 in c:\\users\\spand\\anaconda3\\lib\\site-packages (from matplotlib<3.7,>=3.2->pandas-profiling) (1.3.0)\n",
      "Requirement already satisfied: pillow>=6.2.0 in c:\\users\\spand\\anaconda3\\lib\\site-packages (from matplotlib<3.7,>=3.2->pandas-profiling) (9.2.0)\n",
      "Requirement already satisfied: pyparsing!=2.0.4,!=2.1.2,!=2.1.6,>=2.0.3 in c:\\users\\spand\\anaconda3\\lib\\site-packages (from matplotlib<3.7,>=3.2->pandas-profiling) (2.4.7)\n",
      "Requirement already satisfied: cycler>=0.10 in c:\\users\\spand\\anaconda3\\lib\\site-packages (from matplotlib<3.7,>=3.2->pandas-profiling) (0.10.0)\n",
      "Requirement already satisfied: certifi>=2020.06.20 in c:\\users\\spand\\anaconda3\\lib\\site-packages (from matplotlib<3.7,>=3.2->pandas-profiling) (2022.9.24)\n",
      "Collecting typing-extensions>=4.2.0\n",
      "  Downloading typing_extensions-4.4.0-py3-none-any.whl (26 kB)\n",
      "Collecting tangled-up-in-unicode>=0.0.4\n",
      "  Downloading tangled_up_in_unicode-0.2.0-py3-none-any.whl (4.7 MB)\n",
      "Requirement already satisfied: networkx>=2.4 in c:\\users\\spand\\anaconda3\\lib\\site-packages (from visions[type_image_path]==0.7.5->pandas-profiling) (2.5)\n",
      "Requirement already satisfied: attrs>=19.3.0 in c:\\users\\spand\\anaconda3\\lib\\site-packages (from visions[type_image_path]==0.7.5->pandas-profiling) (20.3.0)\n",
      "Collecting imagehash; extra == \"type_image_path\"\n",
      "  Downloading ImageHash-4.3.1-py2.py3-none-any.whl (296 kB)\n",
      "Requirement already satisfied: pytz>=2020.1 in c:\\users\\spand\\anaconda3\\lib\\site-packages (from pandas!=1.4.0,<1.6,>1.1->pandas-profiling) (2020.1)\n",
      "Requirement already satisfied: urllib3<1.27,>=1.21.1 in c:\\users\\spand\\anaconda3\\lib\\site-packages (from requests<2.29,>=2.24.0->pandas-profiling) (1.26.11)\n",
      "Requirement already satisfied: charset-normalizer<3,>=2 in c:\\users\\spand\\anaconda3\\lib\\site-packages (from requests<2.29,>=2.24.0->pandas-profiling) (2.1.1)\n",
      "Requirement already satisfied: idna<4,>=2.5 in c:\\users\\spand\\anaconda3\\lib\\site-packages (from requests<2.29,>=2.24.0->pandas-profiling) (2.10)\n",
      "Requirement already satisfied: six in c:\\users\\spand\\anaconda3\\lib\\site-packages (from patsy>=0.5.2->statsmodels<0.14,>=0.13.2->pandas-profiling) (1.15.0)\n",
      "Requirement already satisfied: decorator>=4.3.0 in c:\\users\\spand\\anaconda3\\lib\\site-packages (from networkx>=2.4->visions[type_image_path]==0.7.5->pandas-profiling) (4.4.2)\n",
      "Requirement already satisfied: PyWavelets in c:\\users\\spand\\anaconda3\\lib\\site-packages (from imagehash; extra == \"type_image_path\"->visions[type_image_path]==0.7.5->pandas-profiling) (1.1.1)\n",
      "Building wheels for collected packages: htmlmin\n",
      "  Building wheel for htmlmin (setup.py): started\n",
      "  Building wheel for htmlmin (setup.py): finished with status 'done'\n",
      "  Created wheel for htmlmin: filename=htmlmin-0.1.12-py3-none-any.whl size=27091 sha256=5a86f71b8496d88dbda621a4ec0488a2cbf4caeecdaff3e75d1eaafe67160947\n",
      "  Stored in directory: c:\\users\\spand\\appdata\\local\\pip\\cache\\wheels\\23\\14\\6e\\4be5bfeeb027f4939a01764b48edd5996acf574b0913fe5243\n",
      "Successfully built htmlmin\n",
      "Installing collected packages: typeguard, phik, packaging, patsy, statsmodels, htmlmin, typing-extensions, pydantic, multimethod, tangled-up-in-unicode, imagehash, visions, pandas-profiling\n",
      "  Attempting uninstall: packaging\n",
      "    Found existing installation: packaging 20.4\n",
      "    Uninstalling packaging-20.4:\n",
      "      Successfully uninstalled packaging-20.4\n",
      "  Attempting uninstall: patsy\n",
      "    Found existing installation: patsy 0.5.1\n",
      "    Uninstalling patsy-0.5.1:\n",
      "      Successfully uninstalled patsy-0.5.1\n",
      "  Attempting uninstall: statsmodels\n",
      "    Found existing installation: statsmodels 0.12.0\n",
      "    Uninstalling statsmodels-0.12.0:\n",
      "      Successfully uninstalled statsmodels-0.12.0\n",
      "  Attempting uninstall: typing-extensions\n",
      "    Found existing installation: typing-extensions 3.7.4.3\n",
      "    Uninstalling typing-extensions-3.7.4.3:\n",
      "      Successfully uninstalled typing-extensions-3.7.4.3\n",
      "Successfully installed htmlmin-0.1.12 imagehash-4.3.1 multimethod-1.9.1 packaging-23.0 pandas-profiling-3.6.2 patsy-0.5.3 phik-0.12.3 pydantic-1.10.4 statsmodels-0.13.5 tangled-up-in-unicode-0.2.0 typeguard-2.13.3 typing-extensions-4.4.0 visions-0.7.5\n"
     ]
    }
   ],
   "source": [
    "!pip install pandas-profiling"
   ]
  },
  {
   "cell_type": "code",
   "execution_count": 10,
   "metadata": {},
   "outputs": [],
   "source": [
    "import pandas as pd\n",
    "df=pd.read_csv(\"train.csv\")"
   ]
  },
  {
   "cell_type": "code",
   "execution_count": 11,
   "metadata": {},
   "outputs": [
    {
     "data": {
      "application/vnd.jupyter.widget-view+json": {
       "model_id": "5a22bbcdef5942e7b1571e4f699a08af",
       "version_major": 2,
       "version_minor": 0
      },
      "text/plain": [
       "HBox(children=(HTML(value='Summarize dataset'), FloatProgress(value=0.0, max=5.0), HTML(value='')))"
      ]
     },
     "metadata": {},
     "output_type": "display_data"
    },
    {
     "name": "stdout",
     "output_type": "stream",
     "text": [
      "\n"
     ]
    },
    {
     "data": {
      "application/vnd.jupyter.widget-view+json": {
       "model_id": "b478137270f34486b2b82c93eaeab79a",
       "version_major": 2,
       "version_minor": 0
      },
      "text/plain": [
       "HBox(children=(HTML(value='Generate report structure'), FloatProgress(value=0.0, max=1.0), HTML(value='')))"
      ]
     },
     "metadata": {},
     "output_type": "display_data"
    },
    {
     "name": "stdout",
     "output_type": "stream",
     "text": [
      "\n"
     ]
    },
    {
     "data": {
      "application/vnd.jupyter.widget-view+json": {
       "model_id": "efa0de18e81e4b6895dc095a83feca03",
       "version_major": 2,
       "version_minor": 0
      },
      "text/plain": [
       "HBox(children=(HTML(value='Render HTML'), FloatProgress(value=0.0, max=1.0), HTML(value='')))"
      ]
     },
     "metadata": {},
     "output_type": "display_data"
    },
    {
     "name": "stdout",
     "output_type": "stream",
     "text": [
      "\n"
     ]
    },
    {
     "data": {
      "application/vnd.jupyter.widget-view+json": {
       "model_id": "15d3676e70564f7390414c34f7c8eb3d",
       "version_major": 2,
       "version_minor": 0
      },
      "text/plain": [
       "HBox(children=(HTML(value='Export report to file'), FloatProgress(value=0.0, max=1.0), HTML(value='')))"
      ]
     },
     "metadata": {},
     "output_type": "display_data"
    },
    {
     "name": "stdout",
     "output_type": "stream",
     "text": [
      "\n"
     ]
    }
   ],
   "source": [
    "from pandas_profiling import ProfileReport\n",
    "prof= ProfileReport(df)\n",
    "prof.to_file(output_file='output.html')"
   ]
  },
  {
   "cell_type": "code",
   "execution_count": null,
   "metadata": {},
   "outputs": [],
   "source": []
  }
 ],
 "metadata": {
  "kernelspec": {
   "display_name": "Python 3",
   "language": "python",
   "name": "python3"
  },
  "language_info": {
   "codemirror_mode": {
    "name": "ipython",
    "version": 3
   },
   "file_extension": ".py",
   "mimetype": "text/x-python",
   "name": "python",
   "nbconvert_exporter": "python",
   "pygments_lexer": "ipython3",
   "version": "3.8.5"
  }
 },
 "nbformat": 4,
 "nbformat_minor": 4
}
